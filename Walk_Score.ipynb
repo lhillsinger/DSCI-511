{
 "cells": [
  {
   "cell_type": "code",
   "execution_count": 10,
   "id": "c4b6b200",
   "metadata": {},
   "outputs": [],
   "source": [
    "import requests\n",
    "from pprint import pprint\n",
    "from urllib.parse import quote"
   ]
  },
  {
   "cell_type": "code",
   "execution_count": 13,
   "id": "b7e611ec",
   "metadata": {},
   "outputs": [
    {
     "name": "stdout",
     "output_type": "stream",
     "text": [
      "Results for Fishtown, Philadelphia, PA:\n",
      "{'bike': {'description': \"Biker's Paradise\", 'score': 96},\n",
      " 'description': \"Walker's Paradise\",\n",
      " 'help_link': 'https://www.redfin.com/how-walk-score-works',\n",
      " 'logo_url': 'https://cdn.walk.sc/images/api-logo.png',\n",
      " 'more_info_icon': 'https://cdn.walk.sc/images/api-more-info.gif',\n",
      " 'more_info_link': 'https://www.redfin.com/how-walk-score-works',\n",
      " 'snapped_lat': 39.9705,\n",
      " 'snapped_lon': -75.129,\n",
      " 'status': 1,\n",
      " 'transit': {'description': 'Good Transit',\n",
      "             'score': 65,\n",
      "             'summary': '14 nearby routes: 13 bus, 1 rail, 0 other'},\n",
      " 'updated': '2024-02-17 09:45:52.329474',\n",
      " 'walkscore': 94,\n",
      " 'ws_link': 'https://www.walkscore.com/score/Fishtown-Philadelphia-PA/lat=39.9709764/lng=-75.1284805/?utm_source=drexel.edu&utm_medium=ws_api&utm_campaign=ws_api'}\n"
     ]
    }
   ],
   "source": [
    "# API output for WalkScore\n",
    "def get_walk_score(address, lat, lon, api_key):\n",
    "    formatted_address = quote(address)\n",
    "    url = (f\"https://api.walkscore.com/score?format=json&address={formatted_address}\"\n",
    "           f\"&lat={lat}&lon={lon}&transit=1&bike=1&wsapikey={api_key}\")\n",
    "    api_key = \"7bc5926810449d09e85b1e37b2dfdb42\"\n",
    "    response = requests.get(url)\n",
    "    return response.json()\n",
    "\n",
    "addresses = [\n",
    "    (\"Fishtown, Philadelphia, PA\", 39.9709764, -75.1284805)\n",
    "]\n",
    "\n",
    "for address, lat, lon in addresses:\n",
    "    result = get_walk_score(address, lat, lon, api_key)\n",
    "    print(f\"Results for {address}:\")\n",
    "    pprint(result)"
   ]
  },
  {
   "cell_type": "code",
   "execution_count": null,
   "id": "8dd7e5a3",
   "metadata": {},
   "outputs": [],
   "source": []
  }
 ],
 "metadata": {
  "kernelspec": {
   "display_name": "Python 3 (ipykernel)",
   "language": "python",
   "name": "python3"
  },
  "language_info": {
   "codemirror_mode": {
    "name": "ipython",
    "version": 3
   },
   "file_extension": ".py",
   "mimetype": "text/x-python",
   "name": "python",
   "nbconvert_exporter": "python",
   "pygments_lexer": "ipython3",
   "version": "3.11.4"
  }
 },
 "nbformat": 4,
 "nbformat_minor": 5
}
